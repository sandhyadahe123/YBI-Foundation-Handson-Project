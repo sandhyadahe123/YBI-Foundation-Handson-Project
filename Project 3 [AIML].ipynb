{
 "cells": [
  {
   "cell_type": "code",
   "execution_count": 1,
   "metadata": {},
   "outputs": [],
   "source": [
    "import pandas as pd\n",
    "import numpy as np"
   ]
  },
  {
   "cell_type": "code",
   "execution_count": 2,
   "metadata": {},
   "outputs": [],
   "source": [
    "from sklearn.datasets import make_regression"
   ]
  },
  {
   "cell_type": "code",
   "execution_count": 7,
   "metadata": {},
   "outputs": [],
   "source": [
    "x,y = make_regression(n_samples=500, n_features=5, coef=False, bias=12, noise=10, random_state=2529)"
   ]
  },
  {
   "cell_type": "code",
   "execution_count": 8,
   "metadata": {},
   "outputs": [],
   "source": [
    "x,y,w = make_regression(n_samples=500, n_features=5, coef=True, bias=12, noise=10, random_state=2529)"
   ]
  },
  {
   "cell_type": "code",
   "execution_count": 9,
   "metadata": {},
   "outputs": [
    {
     "data": {
      "text/plain": [
       "((500, 5), (500,))"
      ]
     },
     "execution_count": 9,
     "metadata": {},
     "output_type": "execute_result"
    }
   ],
   "source": [
    "x.shape, y.shape"
   ]
  },
  {
   "cell_type": "code",
   "execution_count": 10,
   "metadata": {},
   "outputs": [
    {
     "data": {
      "text/plain": [
       "array([29.45661718, 60.14529878, 61.7409438 , 13.32437893, 99.08122896])"
      ]
     },
     "execution_count": 10,
     "metadata": {},
     "output_type": "execute_result"
    }
   ],
   "source": [
    "w"
   ]
  },
  {
   "cell_type": "code",
   "execution_count": 11,
   "metadata": {},
   "outputs": [
    {
     "data": {
      "text/plain": [
       "((500, 5), (500,))"
      ]
     },
     "execution_count": 11,
     "metadata": {},
     "output_type": "execute_result"
    }
   ],
   "source": [
    "x.shape, y.shape"
   ]
  },
  {
   "cell_type": "code",
   "execution_count": 12,
   "metadata": {},
   "outputs": [
    {
     "data": {
      "text/plain": [
       "array([[ 0.77913208, -1.09701784, -0.14239962,  1.02427891, -1.0708024 ],\n",
       "       [-0.6925009 ,  0.45535977,  0.34707569, -0.32456746,  0.21970203],\n",
       "       [-0.03901601, -0.3265115 ,  0.59793721,  0.61686653, -0.6237489 ],\n",
       "       [-0.61566117, -0.11782129, -0.98234619, -0.78292727,  0.42713048],\n",
       "       [ 1.30822207, -0.72541559,  0.60187975,  0.33285998,  1.48506184]])"
      ]
     },
     "execution_count": 12,
     "metadata": {},
     "output_type": "execute_result"
    }
   ],
   "source": [
    "x[0:5]"
   ]
  },
  {
   "cell_type": "code",
   "execution_count": 13,
   "metadata": {},
   "outputs": [
    {
     "data": {
      "text/plain": [
       "array([-136.21858395,   49.83118244,  -29.81097858,  -31.74001475,\n",
       "        193.0687778 ])"
      ]
     },
     "execution_count": 13,
     "metadata": {},
     "output_type": "execute_result"
    }
   ],
   "source": [
    "y[0:5]"
   ]
  },
  {
   "cell_type": "code",
   "execution_count": 14,
   "metadata": {},
   "outputs": [
    {
     "data": {
      "text/plain": [
       "((500, 5), (500,))"
      ]
     },
     "execution_count": 14,
     "metadata": {},
     "output_type": "execute_result"
    }
   ],
   "source": [
    "x.shape, y.shape"
   ]
  },
  {
   "cell_type": "code",
   "execution_count": 16,
   "metadata": {},
   "outputs": [],
   "source": [
    "from sklearn.model_selection import train_test_split"
   ]
  },
  {
   "cell_type": "code",
   "execution_count": 17,
   "metadata": {},
   "outputs": [],
   "source": [
    "X_test, X_train, y_test, y_train = train_test_split(x,y, test_size=0.3, random_state =2529)"
   ]
  },
  {
   "cell_type": "code",
   "execution_count": 18,
   "metadata": {},
   "outputs": [
    {
     "data": {
      "text/plain": [
       "((350, 5), (150, 5), (350,), (150,))"
      ]
     },
     "execution_count": 18,
     "metadata": {},
     "output_type": "execute_result"
    }
   ],
   "source": [
    "X_test.shape, X_train.shape, y_test.shape, y_train.shape"
   ]
  },
  {
   "cell_type": "code",
   "execution_count": 19,
   "metadata": {},
   "outputs": [],
   "source": [
    "from sklearn.linear_model import LinearRegression"
   ]
  },
  {
   "cell_type": "code",
   "execution_count": 20,
   "metadata": {},
   "outputs": [],
   "source": [
    "model = LinearRegression()"
   ]
  },
  {
   "cell_type": "code",
   "execution_count": 21,
   "metadata": {},
   "outputs": [
    {
     "data": {
      "text/plain": [
       "LinearRegression(copy_X=True, fit_intercept=True, n_jobs=None, normalize=False)"
      ]
     },
     "execution_count": 21,
     "metadata": {},
     "output_type": "execute_result"
    }
   ],
   "source": [
    "model.fit(X_train, y_train)"
   ]
  },
  {
   "cell_type": "code",
   "execution_count": 22,
   "metadata": {},
   "outputs": [
    {
     "data": {
      "text/plain": [
       "11.928897130208709"
      ]
     },
     "execution_count": 22,
     "metadata": {},
     "output_type": "execute_result"
    }
   ],
   "source": [
    "model.intercept_"
   ]
  },
  {
   "cell_type": "code",
   "execution_count": 23,
   "metadata": {},
   "outputs": [
    {
     "data": {
      "text/plain": [
       "array([30.2834353 , 61.00332749, 61.17922836, 13.65456369, 98.95152746])"
      ]
     },
     "execution_count": 23,
     "metadata": {},
     "output_type": "execute_result"
    }
   ],
   "source": [
    "model.coef_"
   ]
  },
  {
   "cell_type": "code",
   "execution_count": 24,
   "metadata": {},
   "outputs": [],
   "source": [
    "y_pred = model.predict(X_test)"
   ]
  },
  {
   "cell_type": "code",
   "execution_count": 25,
   "metadata": {},
   "outputs": [
    {
     "data": {
      "text/plain": [
       "(350,)"
      ]
     },
     "execution_count": 25,
     "metadata": {},
     "output_type": "execute_result"
    }
   ],
   "source": [
    "y_pred.shape"
   ]
  },
  {
   "cell_type": "code",
   "execution_count": 26,
   "metadata": {},
   "outputs": [
    {
     "data": {
      "text/plain": [
       "array([ 193.08618243,  -46.11748618,  145.37905131,  250.34675423,\n",
       "         81.99819642,   -7.42959059,  143.25674473,    9.1380423 ,\n",
       "       -233.47344257,  -19.85223345,  -52.73042155,  -74.66613375,\n",
       "       -157.37520999,  135.90599714, -152.12557821,   87.80940636,\n",
       "        174.66382363,   30.99004312,  -56.35418153, -121.3022102 ,\n",
       "        -14.62324076,   95.42218518,   49.85242407, -295.15458964,\n",
       "        121.65497118, -147.64186959,   84.42407079, -199.86012615,\n",
       "        195.61032458,  -49.78669478,  130.07751278, -166.78099609,\n",
       "         -3.08277004,   57.27789948,   56.07478746,   48.11880729,\n",
       "        107.85333017, -107.01226358,  -22.92245057,   -1.29641519,\n",
       "        160.45304468,  108.08399691,  153.77871411,  307.51947941,\n",
       "       -250.49944511,  -94.63784575,   -5.93209696,  -80.4220211 ,\n",
       "        302.95691592,  -15.69941864, -209.07987488,  175.59026879,\n",
       "        -61.38321715,   40.506081  , -107.72671398, -204.2622268 ,\n",
       "         26.04091748,  155.17130397,   86.37855138,    6.27551171,\n",
       "       -195.16554853, -115.78158297,   23.152074  , -104.98662199,\n",
       "         88.94796965,  157.59070671,   63.43824204,  -86.99542112,\n",
       "        -15.67697491,  242.54969098,   27.40182005, -217.77859996,\n",
       "         -8.60272549, -118.90667653,   47.44086162,  151.2367464 ,\n",
       "        409.94919125, -212.68862887,  -19.78439059,   -4.69753414,\n",
       "        195.46098624,  280.55328544, -118.10251447,    8.66331035,\n",
       "         20.44120362,   58.33410521,  218.37933346, -221.33690113,\n",
       "        -89.06571198,   63.91999037,  123.62202051,   -6.16949293,\n",
       "        -88.68342525,  -15.27502091,   38.34160444,  -28.41355972,\n",
       "         36.93688562, -163.40615232,   58.3153826 ,  251.65780303,\n",
       "        -30.79819537, -105.99881856,  -31.24435381,  230.06668491,\n",
       "       -212.19043829,  366.52189244,  156.53582377,   24.15390698,\n",
       "        -92.45364102, -142.75437129,   79.74782079, -154.12882644,\n",
       "        222.8056906 , -227.14125331,   96.77172067,  -16.72699625,\n",
       "        102.99575939,  242.39919291,  -40.15967767,  126.77528585,\n",
       "        208.53506361,  -20.75316481,   96.80859918,  -49.59175736,\n",
       "         72.92864392, -134.58471117,   39.22159917, -227.062724  ,\n",
       "        -50.22594776, -160.96691138,  -67.09962317,  263.28746367,\n",
       "          6.57515848, -273.32813628,  -66.08754449,   62.54035246,\n",
       "          7.20017697, -273.55785699,   65.22175509,  -58.81957184,\n",
       "         73.54792686, -120.75353992, -126.61887597,  217.54450989,\n",
       "       -198.4197874 ,  151.2667222 ,   99.82363707,  176.48785483,\n",
       "         68.59720798,   88.78152994,   54.72523009,  246.83896557,\n",
       "       -154.11018349,  -14.36215532,  155.78952996,  120.24514059,\n",
       "         28.53523628,  244.09958502,   78.97062281,   38.62321939,\n",
       "        -61.84748928,   46.79497928, -181.58811127,  -26.61562053,\n",
       "         24.81796532,  119.84137603,  163.12108404,   -1.48956391,\n",
       "         21.47001147,   -2.86459734,  219.31870321,  125.0309088 ,\n",
       "        -13.75239563, -208.447711  ,  -36.07913507,  -12.97843848,\n",
       "        -33.11873428,  -55.61767795,  140.18528608,   25.7612835 ,\n",
       "       -176.29370597,   30.39312117, -168.45089095,  165.18219643,\n",
       "        331.85958492, -170.08431636,  220.32463864,  156.43152964,\n",
       "        110.06183475,   60.5800698 ,  -80.47183537,   80.53062827,\n",
       "        214.68231048,   87.14465611,  -95.77260132,   98.17123891,\n",
       "        202.68862425,  -17.60577047,   11.16700401,  119.85279117,\n",
       "       -245.25560264,  100.65822439, -252.64401328,  246.00117964,\n",
       "        199.08159948, -104.00851928,  190.39924086,   17.89491424,\n",
       "        241.34155266,  -88.73463575,  -70.92162137,   25.03037749,\n",
       "        -17.54149226,  456.78275524,    4.88602178,   76.96916855,\n",
       "          6.40054317, -111.15823306, -173.37761367, -100.43080347,\n",
       "        -73.70621844,   96.90977209,  -86.67846775,   84.38825344,\n",
       "        316.47426788,  -76.65263508,  -36.97724342,  206.67649899,\n",
       "        202.06198568,  -17.32811309, -152.44049517, -154.90066452,\n",
       "        -96.53180127,  212.24598964,  -58.40341751,  217.6770188 ,\n",
       "        236.77978363,  273.46850113,  199.71201043,  -42.42742761,\n",
       "         17.7978753 ,  330.98111607,  -12.78382813,  -96.54163013,\n",
       "       -102.65847118,  118.58532381,   68.57776006,   47.37503089,\n",
       "         50.55311927,  101.08754352,   67.04713881,  173.62718121,\n",
       "        176.12034261,  -44.55084641,  -42.15772889,  -75.16253577,\n",
       "         -0.57136001, -185.12849768,   87.40072198,   65.10823695,\n",
       "          2.15372725,  186.98662671,  -55.86836001,   20.98614683,\n",
       "       -144.08141396,   23.6012707 ,  -17.82028936,  151.56315346,\n",
       "        -98.24796789,  176.17193558,  245.08613833,   69.34228957,\n",
       "         79.17032875,   89.87027171,   69.06596254,  -17.54072751,\n",
       "         -7.45429476,  238.31021218,  -67.16895426,   23.77662663,\n",
       "        300.34682583,  105.82027056,   23.23286564,  -41.54388405,\n",
       "         93.56758647, -147.23328176,   93.88284486,   32.9952816 ,\n",
       "        125.52444705,   70.1818985 ,  115.50648048,  -68.74444088,\n",
       "         52.6372878 ,  -82.0006428 ,   27.39826907,  250.02893516,\n",
       "         13.71701551, -146.17872788, -211.00348384,   37.94028773,\n",
       "         32.31020184,    4.28682536,   39.09063799,   23.21088871,\n",
       "        185.788806  ,  -42.7419556 ,  220.69134533,   47.73645033,\n",
       "       -176.82678797, -255.09125841,   15.55376578, -116.90340759,\n",
       "         62.17433694,  -64.25487162, -155.91584999, -147.53653212,\n",
       "        -35.13120102,  -23.98836011,  -39.3210798 , -247.35334497,\n",
       "        171.0514448 ,   79.58424865,   70.38600809,  -17.14210463,\n",
       "        -66.12947035, -234.91634884,   -0.8519931 ,  -33.89164253,\n",
       "        -56.26850265,   34.50110643,   11.45264813,  320.36033644,\n",
       "        130.74470306,  -29.33791707,  213.75272497,   73.11519198,\n",
       "       -237.32258429,  -68.92903726,   11.23642832,   57.28666828,\n",
       "         91.84737536,  124.50658621,  -68.99876044,   45.05664427,\n",
       "         51.54973464,  -31.43370681,  134.45749262,  148.95044831,\n",
       "       -206.08912438, -146.21176901])"
      ]
     },
     "execution_count": 26,
     "metadata": {},
     "output_type": "execute_result"
    }
   ],
   "source": [
    "y_pred"
   ]
  },
  {
   "cell_type": "code",
   "execution_count": 30,
   "metadata": {},
   "outputs": [],
   "source": [
    "from sklearn.metrics import mean_squared_error, mean_absolute_error, r2_score"
   ]
  },
  {
   "cell_type": "code",
   "execution_count": 31,
   "metadata": {},
   "outputs": [
    {
     "data": {
      "text/plain": [
       "102.39133719714687"
      ]
     },
     "execution_count": 31,
     "metadata": {},
     "output_type": "execute_result"
    }
   ],
   "source": [
    "mean_squared_error(y_test,y_pred)"
   ]
  },
  {
   "cell_type": "code",
   "execution_count": 32,
   "metadata": {},
   "outputs": [
    {
     "data": {
      "text/plain": [
       "8.271610016334655"
      ]
     },
     "execution_count": 32,
     "metadata": {},
     "output_type": "execute_result"
    }
   ],
   "source": [
    "mean_absolute_error(y_test,y_pred)"
   ]
  },
  {
   "cell_type": "code",
   "execution_count": 33,
   "metadata": {},
   "outputs": [
    {
     "data": {
      "text/plain": [
       "0.9945268594609746"
      ]
     },
     "execution_count": 33,
     "metadata": {},
     "output_type": "execute_result"
    }
   ],
   "source": [
    "r2_score(y_test,y_pred)"
   ]
  },
  {
   "cell_type": "code",
   "execution_count": null,
   "metadata": {},
   "outputs": [],
   "source": []
  }
 ],
 "metadata": {
  "kernelspec": {
   "display_name": "Python 3",
   "language": "python",
   "name": "python3"
  },
  "language_info": {
   "codemirror_mode": {
    "name": "ipython",
    "version": 3
   },
   "file_extension": ".py",
   "mimetype": "text/x-python",
   "name": "python",
   "nbconvert_exporter": "python",
   "pygments_lexer": "ipython3",
   "version": "3.7.6"
  }
 },
 "nbformat": 4,
 "nbformat_minor": 4
}
